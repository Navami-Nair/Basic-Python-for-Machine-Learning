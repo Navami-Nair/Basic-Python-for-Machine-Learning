{
  "nbformat": 4,
  "nbformat_minor": 0,
  "metadata": {
    "colab": {
      "provenance": [],
      "authorship_tag": "ABX9TyMwiABl5iAp8gUfIjOZAmTk",
      "include_colab_link": true
    },
    "kernelspec": {
      "name": "python3",
      "display_name": "Python 3"
    },
    "language_info": {
      "name": "python"
    }
  },
  "cells": [
    {
      "cell_type": "markdown",
      "metadata": {
        "id": "view-in-github",
        "colab_type": "text"
      },
      "source": [
        "<a href=\"https://colab.research.google.com/github/Navami-Nair/Basic-Python-for-Machine-Learning/blob/main/Basic_Python.ipynb\" target=\"_parent\"><img src=\"https://colab.research.google.com/assets/colab-badge.svg\" alt=\"Open In Colab\"/></a>"
      ]
    },
    {
      "cell_type": "markdown",
      "source": [
        "print() function"
      ],
      "metadata": {
        "id": "1HynKD7bB8i6"
      }
    },
    {
      "cell_type": "code",
      "source": [
        "print('Hello World')\n",
        "a=10\n",
        "print('Value of a is',a) #A space is added between string and variable \n",
        "print(1,2,3,4,5,sep='*',end='%') #sep is added btw each value: default sep is space; end is added after all values: default is new line\n",
        "x=5\n",
        "y=20\n",
        "print('\\nThe value of x is {} and value of y is {}'.format(x,y)) #Formatting strings: str.format() method: visible to any string object \n",
        "print('The value of x is {} and value of y is {}'.format(10,20))\n",
        "print('The value of x is {0} and value of y is {1}'.format('Mango','Apple'))\n",
        "print('The value of x is {1} and value of y is {0}'.format('Mango','Apple'))\n",
        "print('Hello {name}, {greeting}'.format(name='Ann',greeting='Nice to meet you'))\n",
        "#r=12.3456789\n",
        "#print('Value of r is %3.2f',%r)"
      ],
      "metadata": {
        "colab": {
          "base_uri": "https://localhost:8080/"
        },
        "id": "kNGa9Q7PCC7P",
        "outputId": "ebd50716-8c6d-42de-a0f8-2dda38eaf9db"
      },
      "execution_count": 15,
      "outputs": [
        {
          "output_type": "stream",
          "name": "stdout",
          "text": [
            "Hello World\n",
            "Value of a is 10\n",
            "1*2*3*4*5%\n",
            "The value of x is 5 and value of y is 20\n",
            "The value of x is 10 and value of y is 20\n",
            "The value of x is Mango and value of y is Apple\n",
            "The value of x is Apple and value of y is Mango\n",
            "Hello Ann, Nice to meet you\n"
          ]
        }
      ]
    },
    {
      "cell_type": "markdown",
      "source": [
        "Sum of two numbers"
      ],
      "metadata": {
        "id": "mXxzBQRdIQ6l"
      }
    },
    {
      "cell_type": "code",
      "execution_count": 20,
      "metadata": {
        "colab": {
          "base_uri": "https://localhost:8080/"
        },
        "id": "YjWtGDH398qf",
        "outputId": "6b6ed206-f556-43dc-dc7f-cf2036568a8b"
      },
      "outputs": [
        {
          "output_type": "stream",
          "name": "stdout",
          "text": [
            "The sum of numbers is:  36\n",
            "14\n"
          ]
        }
      ],
      "source": [
        "a=12\n",
        "b=24\n",
        "sum=a+b\n",
        "print(\"The sum of numbers is: \",sum)\n",
        "#print(int('2+3')) #gives error as it is a string\n",
        "print(eval('5+9'))"
      ]
    },
    {
      "cell_type": "markdown",
      "source": [
        "Input from user"
      ],
      "metadata": {
        "id": "TslowlEeIUFB"
      }
    },
    {
      "cell_type": "code",
      "source": [
        "a=int(input(\"Enter the first number: \")) #input reads value as string, int() is used to convert it to integer\n"
      ],
      "metadata": {
        "colab": {
          "base_uri": "https://localhost:8080/"
        },
        "id": "0_wQUYuS-zPO",
        "outputId": "08f81598-6d7f-435b-993e-9a8c72a9e070"
      },
      "execution_count": null,
      "outputs": [
        {
          "name": "stdout",
          "output_type": "stream",
          "text": [
            "Enter the first number: 20\n"
          ]
        }
      ]
    },
    {
      "cell_type": "code",
      "source": [
        "b=int(input(\"Enter the second number: \"))"
      ],
      "metadata": {
        "colab": {
          "base_uri": "https://localhost:8080/"
        },
        "id": "Ln5-e0Ij_FsN",
        "outputId": "fd223461-6022-40d7-d853-8474d90124e7"
      },
      "execution_count": null,
      "outputs": [
        {
          "name": "stdout",
          "output_type": "stream",
          "text": [
            "Enter the second number: 56\n"
          ]
        }
      ]
    },
    {
      "cell_type": "code",
      "source": [
        "sum=a+b\n",
        "print(sum) #when input used without type conversion"
      ],
      "metadata": {
        "colab": {
          "base_uri": "https://localhost:8080/"
        },
        "id": "fQbl5aQG_TK9",
        "outputId": "b573dc52-ea6e-4be5-a5c3-d6203ce0ac51"
      },
      "execution_count": null,
      "outputs": [
        {
          "output_type": "stream",
          "name": "stdout",
          "text": [
            "2056\n"
          ]
        }
      ]
    },
    {
      "cell_type": "code",
      "source": [
        "sum=a+b\n",
        "print(sum)"
      ],
      "metadata": {
        "colab": {
          "base_uri": "https://localhost:8080/"
        },
        "id": "6Hu3-pbc_44s",
        "outputId": "4c94c221-9707-4ec6-c75f-b46132612231"
      },
      "execution_count": null,
      "outputs": [
        {
          "output_type": "stream",
          "name": "stdout",
          "text": [
            "76\n"
          ]
        }
      ]
    },
    {
      "cell_type": "markdown",
      "source": [
        "type() and isinstance()"
      ],
      "metadata": {
        "id": "Rj-efZsFRZMr"
      }
    },
    {
      "cell_type": "code",
      "source": [
        "a=10\n",
        "print(type(a)) #to know the type of a variable or value\n",
        "print(type(4.2))"
      ],
      "metadata": {
        "colab": {
          "base_uri": "https://localhost:8080/"
        },
        "id": "CEcwpFNsc1vB",
        "outputId": "f22c696f-f66a-4c84-b340-2f01dd071916"
      },
      "execution_count": null,
      "outputs": [
        {
          "output_type": "stream",
          "name": "stdout",
          "text": [
            "<class 'int'>\n",
            "<class 'float'>\n"
          ]
        }
      ]
    },
    {
      "cell_type": "code",
      "source": [
        "b=1+2j\n",
        "print(isinstance(b,complex))"
      ],
      "metadata": {
        "colab": {
          "base_uri": "https://localhost:8080/"
        },
        "id": "qdShaxQ5dH0w",
        "outputId": "e6195d59-d61e-4c2f-ccdc-89420909a7e7"
      },
      "execution_count": null,
      "outputs": [
        {
          "output_type": "stream",
          "name": "stdout",
          "text": [
            "True\n"
          ]
        }
      ]
    },
    {
      "cell_type": "markdown",
      "source": [
        "List "
      ],
      "metadata": {
        "id": "Zr0bwk7oeD2b"
      }
    },
    {
      "cell_type": "code",
      "source": [
        "l1=[1,'apple',24,'orange'] #list values can be of any datatype\n",
        "print(l1)"
      ],
      "metadata": {
        "colab": {
          "base_uri": "https://localhost:8080/"
        },
        "id": "T5AOn3gSeJr3",
        "outputId": "10cb3b25-b6a9-4411-aaf3-b8897d05f445"
      },
      "execution_count": null,
      "outputs": [
        {
          "output_type": "stream",
          "name": "stdout",
          "text": [
            "[1, 'apple', 24, 'orange']\n"
          ]
        }
      ]
    },
    {
      "cell_type": "code",
      "source": [
        "print(l1[2]) #list slicing\n",
        "print(l1[1:3])\n",
        "print(l1[2:])"
      ],
      "metadata": {
        "colab": {
          "base_uri": "https://localhost:8080/"
        },
        "id": "3CDb7GBqeaju",
        "outputId": "2786262d-aac0-4b5f-9332-b9d1cab31217"
      },
      "execution_count": null,
      "outputs": [
        {
          "output_type": "stream",
          "name": "stdout",
          "text": [
            "24\n",
            "['apple', 24]\n",
            "[24, 'orange']\n"
          ]
        }
      ]
    },
    {
      "cell_type": "code",
      "source": [
        "l1[2]='red' #lists are mutable : values can be altered\n",
        "print(l1)"
      ],
      "metadata": {
        "colab": {
          "base_uri": "https://localhost:8080/"
        },
        "id": "y5ZSPEGFe5r4",
        "outputId": "ee40b893-bf9a-4be4-e443-e117ed207ea3"
      },
      "execution_count": null,
      "outputs": [
        {
          "output_type": "stream",
          "name": "stdout",
          "text": [
            "[1, 'apple', 'red', 'orange']\n"
          ]
        }
      ]
    },
    {
      "cell_type": "markdown",
      "source": [
        "Tuple "
      ],
      "metadata": {
        "id": "PttBQqukfMav"
      }
    },
    {
      "cell_type": "code",
      "source": [
        "t1=(1,'hi',3,'hello') #any datatype values are possible\n",
        "print(t1[0:2]) #slicing possible\n",
        "print(t1)"
      ],
      "metadata": {
        "colab": {
          "base_uri": "https://localhost:8080/"
        },
        "id": "IQi2cfByKuf5",
        "outputId": "746fc9b9-0e94-43b6-9d0b-439ee59c78a4"
      },
      "execution_count": null,
      "outputs": [
        {
          "output_type": "stream",
          "name": "stdout",
          "text": [
            "(1, 'hi')\n",
            "(1, 'hi', 3, 'hello')\n"
          ]
        }
      ]
    },
    {
      "cell_type": "code",
      "source": [
        "t1[2]=0 #gives error sincce tuples cannot be changed once created\n",
        "print(t1)"
      ],
      "metadata": {
        "colab": {
          "base_uri": "https://localhost:8080/",
          "height": 187
        },
        "id": "eDu0nlbFLciA",
        "outputId": "9ed534e4-610d-46f7-de0c-d1a2a4946d5a"
      },
      "execution_count": null,
      "outputs": [
        {
          "output_type": "error",
          "ename": "TypeError",
          "evalue": "ignored",
          "traceback": [
            "\u001b[0;31m---------------------------------------------------------------------------\u001b[0m",
            "\u001b[0;31mTypeError\u001b[0m                                 Traceback (most recent call last)",
            "\u001b[0;32m<ipython-input-3-6cf56218b010>\u001b[0m in \u001b[0;36m<cell line: 1>\u001b[0;34m()\u001b[0m\n\u001b[0;32m----> 1\u001b[0;31m \u001b[0mt1\u001b[0m\u001b[0;34m[\u001b[0m\u001b[0;36m2\u001b[0m\u001b[0;34m]\u001b[0m\u001b[0;34m=\u001b[0m\u001b[0;36m0\u001b[0m\u001b[0;34m\u001b[0m\u001b[0;34m\u001b[0m\u001b[0m\n\u001b[0m\u001b[1;32m      2\u001b[0m \u001b[0mprint\u001b[0m\u001b[0;34m(\u001b[0m\u001b[0mt1\u001b[0m\u001b[0;34m)\u001b[0m\u001b[0;34m\u001b[0m\u001b[0;34m\u001b[0m\u001b[0m\n",
            "\u001b[0;31mTypeError\u001b[0m: 'tuple' object does not support item assignment"
          ]
        }
      ]
    },
    {
      "cell_type": "markdown",
      "source": [
        "String "
      ],
      "metadata": {
        "id": "41o_67llLxup"
      }
    },
    {
      "cell_type": "code",
      "source": [
        "s2='Hello world' #immmutable, '' or \"\" are used\n",
        "print(s2)\n",
        "print(s2[5:]) #slicing possible\n"
      ],
      "metadata": {
        "colab": {
          "base_uri": "https://localhost:8080/"
        },
        "id": "sHYVyNdFMHux",
        "outputId": "a64b8d17-66fd-41c1-9eea-0d82126608f8"
      },
      "execution_count": null,
      "outputs": [
        {
          "output_type": "stream",
          "name": "stdout",
          "text": [
            "Hello world\n",
            " world\n"
          ]
        }
      ]
    },
    {
      "cell_type": "markdown",
      "source": [
        "Set \n",
        "\n",
        "```\n",
        "# This is formatted as code\n",
        "```\n",
        "\n"
      ],
      "metadata": {
        "id": "X_mPT1oHMreI"
      }
    },
    {
      "cell_type": "code",
      "source": [
        "s1={1,2,3,2,5.0,2,5} #unordered collection of unique items, no slicing possible\n",
        "print(s1) #union, intersection operations are possible"
      ],
      "metadata": {
        "colab": {
          "base_uri": "https://localhost:8080/"
        },
        "id": "M3KiP1TSM5GZ",
        "outputId": "89c32780-23ba-4e36-e66e-1da6fd8ee80d"
      },
      "execution_count": null,
      "outputs": [
        {
          "output_type": "stream",
          "name": "stdout",
          "text": [
            "{1, 2, 3, 5.0}\n"
          ]
        }
      ]
    },
    {
      "cell_type": "markdown",
      "source": [
        "Dictionary "
      ],
      "metadata": {
        "id": "GcQWz1WFNXag"
      }
    },
    {
      "cell_type": "code",
      "source": [
        "d={1:'aaple',2:'orange',3:'kiwi'} #key value pairs, value can be retrieved using key and not vice versa\n",
        "print (d)\n",
        "print(d[3])"
      ],
      "metadata": {
        "colab": {
          "base_uri": "https://localhost:8080/"
        },
        "id": "vBHIwo93QefR",
        "outputId": "18e4fd5b-7163-4d01-e49d-aee0b90d5560"
      },
      "execution_count": null,
      "outputs": [
        {
          "output_type": "stream",
          "name": "stdout",
          "text": [
            "{1: 'aaple', 2: 'orange', 3: 'kiwi'}\n",
            "kiwi\n"
          ]
        }
      ]
    },
    {
      "cell_type": "code",
      "source": [
        "print(d['kiwi']) #kiwi is not a key so produces error"
      ],
      "metadata": {
        "colab": {
          "base_uri": "https://localhost:8080/",
          "height": 169
        },
        "id": "XAThm88tREzV",
        "outputId": "4503a44a-d2de-4bb7-a4f9-3c9b4a54ebc4"
      },
      "execution_count": null,
      "outputs": [
        {
          "output_type": "error",
          "ename": "KeyError",
          "evalue": "ignored",
          "traceback": [
            "\u001b[0;31m---------------------------------------------------------------------------\u001b[0m",
            "\u001b[0;31mKeyError\u001b[0m                                  Traceback (most recent call last)",
            "\u001b[0;32m<ipython-input-9-c84109a5bca4>\u001b[0m in \u001b[0;36m<cell line: 1>\u001b[0;34m()\u001b[0m\n\u001b[0;32m----> 1\u001b[0;31m \u001b[0mprint\u001b[0m\u001b[0;34m(\u001b[0m\u001b[0md\u001b[0m\u001b[0;34m[\u001b[0m\u001b[0;34m'kiwi'\u001b[0m\u001b[0;34m]\u001b[0m\u001b[0;34m)\u001b[0m\u001b[0;34m\u001b[0m\u001b[0;34m\u001b[0m\u001b[0m\n\u001b[0m",
            "\u001b[0;31mKeyError\u001b[0m: 'kiwi'"
          ]
        }
      ]
    },
    {
      "cell_type": "markdown",
      "source": [
        "Datatype conversion"
      ],
      "metadata": {
        "id": "e49u_IrCRPOh"
      }
    },
    {
      "cell_type": "code",
      "source": [
        "print(float(1))\n",
        "print(str(100))\n",
        "print(list('mango'))\n",
        "print(tuple([1,2,3]))\n",
        "print(dict([[1,2],[3,4]]))\n",
        "print(set([1,2,3]))"
      ],
      "metadata": {
        "colab": {
          "base_uri": "https://localhost:8080/"
        },
        "id": "TCPuyDTZRwCC",
        "outputId": "056ae9c5-ab81-4040-bbf8-2581938f01b2"
      },
      "execution_count": null,
      "outputs": [
        {
          "output_type": "stream",
          "name": "stdout",
          "text": [
            "1.0\n",
            "100\n",
            "['m', 'a', 'n', 'g', 'o']\n",
            "(1, 2, 3)\n",
            "{1: 2, 3: 4}\n",
            "{1, 2, 3}\n"
          ]
        }
      ]
    },
    {
      "cell_type": "markdown",
      "source": [
        "Python import:-\n",
        "When our program grows bigger, it is a good idea to break it into different modules.\n",
        "\n",
        "A module is a file containing Python definitions and statements. Python modules have a filename and end with the extension .py.\n",
        "\n",
        "Definitions inside a module can be imported to another module or the interactive interpreter in Python. We use the import keyword to do this.\n",
        "While importing a module, Python looks at several places defined in sys.path. It is a list of directory locations."
      ],
      "metadata": {
        "id": "H8f6hdJCZScR"
      }
    },
    {
      "cell_type": "code",
      "source": [
        "import math #Now all the definitions inside math module are available in our scope\n",
        "print('Value of pi is:',math.pi)"
      ],
      "metadata": {
        "colab": {
          "base_uri": "https://localhost:8080/"
        },
        "id": "rbvQDUpzZV3f",
        "outputId": "db334b92-2700-4c16-e807-09a8b0fe93e2"
      },
      "execution_count": 1,
      "outputs": [
        {
          "output_type": "stream",
          "name": "stdout",
          "text": [
            "Value of pi is: 3.141592653589793\n"
          ]
        }
      ]
    },
    {
      "cell_type": "code",
      "source": [
        "from math import pi #We can also import some specific attributes and functions only, using the from keyword.\n",
        "print('Value of pi is:',math.pi)"
      ],
      "metadata": {
        "colab": {
          "base_uri": "https://localhost:8080/"
        },
        "id": "CCZsyyF8Z6DG",
        "outputId": "7cbee627-688b-4ef1-b9b0-43acfcf45e3f"
      },
      "execution_count": 2,
      "outputs": [
        {
          "output_type": "stream",
          "name": "stdout",
          "text": [
            "Value of pi is: 3.141592653589793\n"
          ]
        }
      ]
    }
  ]
}