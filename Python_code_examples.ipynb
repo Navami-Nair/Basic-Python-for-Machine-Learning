{
  "nbformat": 4,
  "nbformat_minor": 0,
  "metadata": {
    "colab": {
      "provenance": [],
      "authorship_tag": "ABX9TyMqdG6QK/M48G0Y+hJrvWLH",
      "include_colab_link": true
    },
    "kernelspec": {
      "name": "python3",
      "display_name": "Python 3"
    },
    "language_info": {
      "name": "python"
    }
  },
  "cells": [
    {
      "cell_type": "markdown",
      "metadata": {
        "id": "view-in-github",
        "colab_type": "text"
      },
      "source": [
        "<a href=\"https://colab.research.google.com/github/Navami-Nair/Basic-Python-for-Machine-Learning/blob/main/Python_code_examples.ipynb\" target=\"_parent\"><img src=\"https://colab.research.google.com/assets/colab-badge.svg\" alt=\"Open In Colab\"/></a>"
      ]
    },
    {
      "cell_type": "markdown",
      "source": [
        "\n",
        "1. Program to find largest of three numbers\n",
        "\n",
        "   - **Step 1 :** Assign three numbers or read three numbers from the user.\n",
        "\n",
        "   - **Step 2 :** Find the largest number using conditional statements if - elif - else\n",
        "\n",
        "   - **Step 3 :** Print largest number."
      ],
      "metadata": {
        "id": "_LqdgLDAAfY4"
      }
    },
    {
      "cell_type": "code",
      "source": [
        "# Python program to find the largest number among the three input numbers\n",
        "#num1 = 40\n",
        "#num2 = 24\n",
        "#num3 = 32\n",
        "#uncomment following lines to take three numbers from user\n",
        "num1 = float(input(\"Enter first number: \"))\n",
        "num2 = float(input(\"Enter second number: \"))\n",
        "num3 = float(input(\"Enter third number: \"))\n",
        "if (num1 >= num2) and (num1 >= num3):\n",
        "   largest = num1\n",
        "elif (num2 >= num1) and (num2 >= num3):\n",
        "   largest = num2\n",
        "else:\n",
        "   largest = num3\n",
        "print(\"The largest number is\", largest)"
      ],
      "metadata": {
        "colab": {
          "base_uri": "https://localhost:8080/"
        },
        "id": "8OiapUoMBViv",
        "outputId": "7a28daad-c100-4cee-f370-4ba445bb6a01"
      },
      "execution_count": null,
      "outputs": [
        {
          "output_type": "stream",
          "name": "stdout",
          "text": [
            "Enter first number: 20\n",
            "Enter second number: 10\n",
            "Enter third number: 30\n",
            "The largest number is 30.0\n"
          ]
        }
      ]
    },
    {
      "cell_type": "markdown",
      "source": [
        "2. Printing multiplication table\n",
        "\n",
        "- **Step 1 :** Read number whose multiplication table is to be displayed.\n",
        "\n",
        "- **Step 2 :** Print the multiplication table using for loop."
      ],
      "metadata": {
        "id": "vLtEojIrCsQR"
      }
    },
    {
      "cell_type": "code",
      "source": [
        "#Multiplication table (from 1 to 10) in Python\n",
        "num = 12\n",
        "#To take input from the user\n",
        "#num = int(input(\"Display multiplication table of? \"))\n",
        "# Iterate 10 times from i = 1 to 10\n",
        "for i in range(1, 11):\n",
        "   print(num, 'x', i, '=', num*i)"
      ],
      "metadata": {
        "colab": {
          "base_uri": "https://localhost:8080/"
        },
        "id": "Wp25ZiwvDftw",
        "outputId": "50bd8ed0-dafd-4d69-f60b-acebe66747c9"
      },
      "execution_count": null,
      "outputs": [
        {
          "output_type": "stream",
          "name": "stdout",
          "text": [
            "12 x 1 = 12\n",
            "12 x 2 = 24\n",
            "12 x 3 = 36\n",
            "12 x 4 = 48\n",
            "12 x 5 = 60\n",
            "12 x 6 = 72\n",
            "12 x 7 = 84\n",
            "12 x 8 = 96\n",
            "12 x 9 = 108\n",
            "12 x 10 = 120\n"
          ]
        }
      ]
    },
    {
      "cell_type": "markdown",
      "source": [
        "**Task:** Get an integer less than 12 from the user and display its's ,multiplication table."
      ],
      "metadata": {
        "id": "aDuI1KriEUug"
      }
    },
    {
      "cell_type": "code",
      "source": [
        "#Multiplication table (from 1 to 10) in Python\n",
        "#To take input from the user\n",
        "num = int(input(\"Display multiplication table of? \"))\n",
        "# Iterate 10 times from i = 1 to 10\n",
        "if num<12:\n",
        "  for i in range(1, 11):\n",
        "     print(num, 'x', i, '=', num*i)\n",
        "else:\n",
        "  print(\"Number is not less than 12.\")"
      ],
      "metadata": {
        "colab": {
          "base_uri": "https://localhost:8080/"
        },
        "id": "k-Z_66P2D85P",
        "outputId": "0fb3fe4e-4dcd-4c6c-aa75-2ab5aebdb286"
      },
      "execution_count": null,
      "outputs": [
        {
          "output_type": "stream",
          "name": "stdout",
          "text": [
            "Display multiplication table of? 10\n",
            "10 x 1 = 10\n",
            "10 x 2 = 20\n",
            "10 x 3 = 30\n",
            "10 x 4 = 40\n",
            "10 x 5 = 50\n",
            "10 x 6 = 60\n",
            "10 x 7 = 70\n",
            "10 x 8 = 80\n",
            "10 x 9 = 90\n",
            "10 x 10 = 100\n"
          ]
        }
      ]
    },
    {
      "cell_type": "markdown",
      "source": [
        "3. Check for sign of a number\n",
        "\n",
        "- **Step 1 :** Read a number from the user.\n",
        "\n",
        "- **Step 2 :** Check the sign of the number using conditional statements if - elif - else.\n",
        "\n",
        "- **Step 3 :** Print sign of number.\n"
      ],
      "metadata": {
        "id": "hAPsxHDBE3uN"
      }
    },
    {
      "cell_type": "code",
      "source": [
        "num = float(input(\"Enter a number: \"))\n",
        "if num > 0:\n",
        "   print(\"Positive number\")\n",
        "elif num == 0:\n",
        "   print(\"Zero\")\n",
        "else:\n",
        "   print(\"Negative number\")"
      ],
      "metadata": {
        "colab": {
          "base_uri": "https://localhost:8080/"
        },
        "id": "sd1rm2SlFnrB",
        "outputId": "920a4980-6141-46ae-d99b-7ddc518fddc2"
      },
      "execution_count": null,
      "outputs": [
        {
          "output_type": "stream",
          "name": "stdout",
          "text": [
            "Enter a number: 89\n",
            "Positive number\n"
          ]
        }
      ]
    },
    {
      "cell_type": "markdown",
      "source": [
        "4. Find surface area and volume of a cylinder\n",
        "\n",
        "Let  $r$  is the base radius and  $h$  is the height of a right circular cylinder.\n",
        "\n",
        "$$SA=2πr(r+h)$$\n",
        "\n",
        "$$V=πr^2h$$\n",
        "\n",
        "- **Step 1 :** Assign the radius and height of the cylinder.\n",
        "- **Step 2 :** Find the surface area and volume of the cylinder.\n",
        "- **Step 3 :** Print the surface area and volume of the cylinder."
      ],
      "metadata": {
        "id": "TGGNkBniFwNo"
      }
    },
    {
      "cell_type": "code",
      "source": [
        "#from math import pi\n",
        "pi=3.14\n",
        "r=2.6\n",
        "h=1.6\n",
        "SA=2*pi*r*(r+h)\n",
        "V=pi*r**2*h\n",
        "print((\"Surface Area is {} and Volume is {}\").format(SA,V))"
      ],
      "metadata": {
        "colab": {
          "base_uri": "https://localhost:8080/"
        },
        "id": "U3KI-N60GiBS",
        "outputId": "cfde8055-ff7f-40b9-ea18-a70af0db8fdf"
      },
      "execution_count": null,
      "outputs": [
        {
          "output_type": "stream",
          "name": "stdout",
          "text": [
            "Surface Area is 68.57760000000002 and Volume is 33.96224\n"
          ]
        }
      ]
    },
    {
      "cell_type": "markdown",
      "source": [
        "5. Find area of a circle with radius  r  using user input\n",
        "- **Step 1 :** Read the radius of the circle from the user.\n",
        "- **Step 2 :** Find the area of the circle.\n",
        "- **Step 3 :** Print the area of the circle."
      ],
      "metadata": {
        "id": "hqKLEZMNGzN5"
      }
    },
    {
      "cell_type": "code",
      "source": [
        "#program to find area of a circle\n",
        "r=float(input(\"Enter the radius: \"))\n",
        "print(\"Area: \",pi*r**2)"
      ],
      "metadata": {
        "colab": {
          "base_uri": "https://localhost:8080/"
        },
        "id": "1cqKIelzHEi5",
        "outputId": "63e1fbae-393d-4c36-e3a2-519ce33470df"
      },
      "execution_count": null,
      "outputs": [
        {
          "output_type": "stream",
          "name": "stdout",
          "text": [
            "Enter the radius: 2.4\n",
            "Area:  18.0864\n"
          ]
        }
      ]
    },
    {
      "cell_type": "markdown",
      "source": [
        "6. Find the area of a rectangle with lenght $l$ and breadth $b$\n",
        "\n",
        "- **Step 1 :** Assign the length and breadth of the rectangle from the user.\n",
        "- **Step 2 :** Find the area of the rectangle.\n",
        "- **Step 3 :** Print the area of the rectangle."
      ],
      "metadata": {
        "id": "942IWQBwHsFi"
      }
    },
    {
      "cell_type": "code",
      "source": [
        "l=2;b=5.2\n",
        "Area=l*b\n",
        "print(\"Area of the Rectangle is : \",Area)"
      ],
      "metadata": {
        "colab": {
          "base_uri": "https://localhost:8080/"
        },
        "id": "uIb_1jlHID-5",
        "outputId": "5bec4245-0e85-4587-ab3c-50e0e7c94478"
      },
      "execution_count": null,
      "outputs": [
        {
          "output_type": "stream",
          "name": "stdout",
          "text": [
            "Area of the Rectangle is :  10.4\n"
          ]
        }
      ]
    },
    {
      "cell_type": "markdown",
      "source": [
        "7. Replacing a word with another word  in a sentence\n",
        "\n",
        "Use the `replace()` method in `python`\n",
        "\n",
        "**Syntax:**\n",
        "```\n",
        "str.replace(old,new)\n",
        "```\n",
        "\n",
        "- **Step 1 :** Assign a sentence to a variable.\n",
        "- **Step 2 :** Replace a word in the sentence with a new word using replace() method.\n",
        "- **Step 3 :** Print the replaced string."
      ],
      "metadata": {
        "id": "Kf_Sc_M6ILyR"
      }
    },
    {
      "cell_type": "code",
      "source": [
        "#program to replace a word by another word in a sentence\n",
        "text = 'hand ball is a hand full of hands'\n",
        "#replace 'hand' with 'foot'\n",
        "replaced_text = text.replace('hand ', 'foot ')\n",
        "print(replaced_text)"
      ],
      "metadata": {
        "colab": {
          "base_uri": "https://localhost:8080/"
        },
        "id": "VAIy9IHQJ8wa",
        "outputId": "0702334b-2f47-4181-d906-63f85da6f48f"
      },
      "execution_count": null,
      "outputs": [
        {
          "output_type": "stream",
          "name": "stdout",
          "text": [
            "foot ball is a foot full of hands\n"
          ]
        }
      ]
    },
    {
      "cell_type": "markdown",
      "source": [
        "8. Program to remove a word from a sentence\n",
        "\n",
        "We will use the string method `remove()`.\n",
        "\n",
        "**Syntax:**\n",
        "\n",
        "```\n",
        "str.remove(word to be removed)\n",
        "```\n",
        "\n",
        "- **Step 1 :** Read a sentence and the word to be removed from the sentence.\n",
        "- **Step 2 :** Remove the word in the sentence using remove() method.\n",
        "- **Step 3 :** Print the new sentence."
      ],
      "metadata": {
        "id": "OlLHknOpKoPL"
      }
    },
    {
      "cell_type": "code",
      "source": [
        "#program to remove a word from a sentence\n",
        "text = input(\"Enter the String: \")\n",
        "word = input(\"Enter a Word to Delete: \")\n",
        "text = text.replace(word, \"\")\n",
        "print(\"The updated sentence is:\\n\")\n",
        "print(text)"
      ],
      "metadata": {
        "colab": {
          "base_uri": "https://localhost:8080/"
        },
        "id": "5rl8OET-MD3q",
        "outputId": "ff5774d7-95cc-4bfc-d0e9-72ffacd6cb99"
      },
      "execution_count": null,
      "outputs": [
        {
          "output_type": "stream",
          "name": "stdout",
          "text": [
            "Enter the String: hi hello how are you\n",
            "Enter a Word to Delete: you\n",
            "The updated sentence is:\n",
            "\n",
            "hi hello how are \n"
          ]
        }
      ]
    },
    {
      "cell_type": "code",
      "source": [
        "# Write a program that input a string and ask\n",
        "# user to delete a given word from a string.\n",
        "text = input('Enter a string: ')\n",
        "words = text.split()\n",
        "data = input('Enter a word to delete: ')\n",
        "status = False\n",
        "for word in words:\n",
        "    if word == data:\n",
        "        words.remove(word)\n",
        "        status = True\n",
        "if status:\n",
        "    text = ' '.join(words)\n",
        "    print('String after deletion:',text)\n",
        "else:\n",
        "    print('Word not present in string.')"
      ],
      "metadata": {
        "colab": {
          "base_uri": "https://localhost:8080/"
        },
        "id": "_NVF_2ZJOOkq",
        "outputId": "2719a8dc-cf43-458b-9462-f624de8c13fb"
      },
      "execution_count": null,
      "outputs": [
        {
          "output_type": "stream",
          "name": "stdout",
          "text": [
            "Enter a string: hi hello how are you\n",
            "Enter a word to delete: are\n",
            "String after deletion: hi hello how you\n"
          ]
        }
      ]
    }
  ]
}